{
 "cells": [
  {
   "cell_type": "code",
   "execution_count": null,
   "id": "2c26dfba",
   "metadata": {},
   "outputs": [
    {
     "ename": "",
     "evalue": "",
     "output_type": "error",
     "traceback": [
      "\u001b[1;31mFailed to start the Kernel. \n",
      "\u001b[1;31mBad file descriptor (C:\\Users\\runneradmin\\AppData\\Local\\Temp\\tmpw8fxpxar\\build\\_deps\\bundled_libzmq-src\\src\\epoll.cpp:73). \n",
      "\u001b[1;31mView Jupyter <a href='command:jupyter.viewOutput'>log</a> for further details."
     ]
    }
   ],
   "source": [
    "import tkinter as tk\n",
    "from tkinter import messagebox, ttk\n",
    "from joblib import load\n",
    "import pandas as pd\n",
    "import numpy as np\n",
    "\n",
    "# Charger le modèle et le préprocesseur\n",
    "model_path = 'C:\\Users\\PRO 3\\PROJET MASTER\\data/voting_regressor_model.pkl'\n",
    "preprocessor_path = 'C:\\Users\\PRO 3\\PROJET MASTER\\data/preprocessor.pkl'\n",
    "\n",
    "voting_regressor = load(model_path)\n",
    "preprocessor = load(preprocessor_path)\n",
    "\n",
    "# Fonction pour effectuer la prédiction\n",
    "def predict():\n",
    "    try:\n",
    "        # Collecter les données\n",
    "        TypeBranchement = entry_TypeBranchement.get()\n",
    "        Type_Tarif = entry_Type_Tarif.get()\n",
    "        Type_Abonne_libelle = entry_Type_Abonne_libelle.get()\n",
    "        genreAbon_libelle = entry_genreAbon_libelle.get()\n",
    "        reglageDisjoncteur = int(entry_reglageDisjoncteur.get())\n",
    "        KWH = float(entry_KWH.get())\n",
    "\n",
    "        # Calculer Log_KWH\n",
    "        Log_KWH = np.log(KWH)\n",
    "\n",
    "        # Préparer les données\n",
    "        user_data = pd.DataFrame({\n",
    "            'TypeBranchement': [TypeBranchement],\n",
    "            'Type_Tarif': [Type_Tarif],\n",
    "            'Type_Abonne_libelle': [Type_Abonne_libelle],\n",
    "            'genreAbon_libelle': [genreAbon_libelle],\n",
    "            'reglageDisjoncteur': [reglageDisjoncteur],\n",
    "            'Log_KWH': [Log_KWH]\n",
    "        })\n",
    "\n",
    "        # Transformation avec le préprocesseur\n",
    "        user_transformed = preprocessor.transform(user_data)\n",
    "\n",
    "        # Prédiction\n",
    "        predicted_log_value = voting_regressor.predict(user_transformed)\n",
    "        predicted_value = np.exp(predicted_log_value[0])\n",
    "\n",
    "        # Afficher le résultat\n",
    "        messagebox.showinfo(\"Résultat\", f\"Le montant prédit est : {predicted_value:.2f} FCFA\")\n",
    "    except Exception as e:\n",
    "        messagebox.showerror(\"Erreur\", f\"Une erreur s'est produite : {str(e)}\")\n",
    "\n",
    "# Interface utilisateur\n",
    "root = tk.Tk()\n",
    "root.title(\"Prédiction du Montant\")\n",
    "root.geometry(\"400x500\")  # Taille de la fenêtre\n",
    "root.configure(bg=\"#f0f0f0\")  # Couleur de fond\n",
    "\n",
    "# Style pour les labels\n",
    "label_style = {\"font\": (\"Arial\", 10), \"bg\": \"#f0f0f0\"}\n",
    "\n",
    "# Style pour les boutons\n",
    "button_style = {\"font\": (\"Arial\", 10), \"bg\": \"#4CAF50\", \"fg\": \"white\", \"relief\": tk.RAISED, \"borderwidth\": 2}\n",
    "\n",
    "# Style pour les entrées\n",
    "entry_style = {\"font\": (\"Arial\", 10), \"relief\": tk.SOLID, \"borderwidth\": 1}\n",
    "\n",
    "# Labels et entrées avec styles et mise en page améliorée\n",
    "tk.Label(root, text=\"Type de branchement\", **label_style).grid(row=1, column=0, padx=10, pady=5, sticky=tk.W)\n",
    "entry_TypeBranchement = tk.Entry(root, **entry_style)\n",
    "entry_TypeBranchement.grid(row=1, column=1, padx=10, pady=5, sticky=tk.E+tk.W)\n",
    "\n",
    "tk.Label(root, text=\"Type de tarif\", **label_style).grid(row=2, column=0, padx=10, pady=5, sticky=tk.W)\n",
    "entry_Type_Tarif = tk.Entry(root, **entry_style)\n",
    "entry_Type_Tarif.grid(row=2, column=1, padx=10, pady=5, sticky=tk.E+tk.W)\n",
    "\n",
    "tk.Label(root, text=\"Type d'abonné\", **label_style).grid(row=3, column=0, padx=10, pady=5, sticky=tk.W)\n",
    "entry_Type_Abonne_libelle = tk.Entry(root, **entry_style)\n",
    "entry_Type_Abonne_libelle.grid(row=3, column=1, padx=10, pady=5, sticky=tk.E+tk.W)\n",
    "\n",
    "tk.Label(root, text=\"Genre d'abonnement\", **label_style).grid(row=4, column=0, padx=10, pady=5, sticky=tk.W)\n",
    "entry_genreAbon_libelle = tk.Entry(root, **entry_style)\n",
    "entry_genreAbon_libelle.grid(row=4, column=1, padx=10, pady=5, sticky=tk.E+tk.W)\n",
    "\n",
    "tk.Label(root, text=\"Réglage du disjoncteur\", **label_style).grid(row=5, column=0, padx=10, pady=5, sticky=tk.W)\n",
    "entry_reglageDisjoncteur = tk.Entry(root, **entry_style)\n",
    "entry_reglageDisjoncteur.grid(row=5, column=1, padx=10, pady=5, sticky=tk.E+tk.W)\n",
    "\n",
    "tk.Label(root, text=\"Consommation KWH\", **label_style).grid(row=6, column=0, padx=10, pady=5, sticky=tk.W)\n",
    "entry_KWH = tk.Entry(root, **entry_style)\n",
    "entry_KWH.grid(row=6, column=1, padx=10, pady=5, sticky=tk.E+tk.W)\n",
    "\n",
    "# Bouton de prédiction avec style et mise en page améliorée\n",
    "tk.Button(root, text=\"Prédire\", command=predict, **button_style).grid(row=7, column=0, columnspan=2, pady=20, padx=10, sticky=tk.E+tk.W)\n",
    "\n",
    "# Configuration de la taille des colonnes\n",
    "root.columnconfigure(1, weight=1)  # La colonne 1 s'étend\n",
    "\n",
    "root.mainloop()\n"
   ]
  },
  {
   "cell_type": "code",
   "execution_count": null,
   "id": "58946c58",
   "metadata": {
    "scrolled": true
   },
   "outputs": [],
   "source": [
    "import pandas as pd\n",
    "\n",
    "# Création du DataFrame\n",
    "data = {\n",
    "    \"reglageDisjoncteur\": [5, 5],\n",
    "    \"TypeBranchement\": [\"Monophasé\", \"Monophasé\"],\n",
    "    \"Type_Tarif\": [\"01 Domestique Social 5A\", \"01 Domestique Social 5A\"],\n",
    "    \"Type_Abonne_libelle\": [\"Privé\", \"Privé\"],\n",
    "    \"genreAbon_libelle\": [\"Particulier\", \"Particulier\"],\n",
    "    \"KWH\": [7.0, 1.0],\n",
    "    \"Montant\": [965.0, 750.0],\n",
    "}\n",
    "\n",
    "df = pd.DataFrame(data)\n",
    "\n",
    "# Affichage du DataFrame\n",
    "df\n"
   ]
  },
  {
   "cell_type": "code",
   "execution_count": null,
   "id": "877da66e",
   "metadata": {},
   "outputs": [],
   "source": []
  }
 ],
 "metadata": {
  "kernelspec": {
   "display_name": "Python 3 (ipykernel)",
   "language": "python",
   "name": "python3"
  },
  "language_info": {
   "codemirror_mode": {
    "name": "ipython",
    "version": 3
   },
   "file_extension": ".py",
   "mimetype": "text/x-python",
   "name": "python",
   "nbconvert_exporter": "python",
   "pygments_lexer": "ipython3",
   "version": "3.11.9"
  },
  "toc": {
   "base_numbering": 1,
   "nav_menu": {},
   "number_sections": true,
   "sideBar": true,
   "skip_h1_title": false,
   "title_cell": "Table of Contents",
   "title_sidebar": "Contents",
   "toc_cell": false,
   "toc_position": {},
   "toc_section_display": true,
   "toc_window_display": false
  },
  "varInspector": {
   "cols": {
    "lenName": 16,
    "lenType": 16,
    "lenVar": 40
   },
   "kernels_config": {
    "python": {
     "delete_cmd_postfix": "",
     "delete_cmd_prefix": "del ",
     "library": "var_list.py",
     "varRefreshCmd": "print(var_dic_list())"
    },
    "r": {
     "delete_cmd_postfix": ") ",
     "delete_cmd_prefix": "rm(",
     "library": "var_list.r",
     "varRefreshCmd": "cat(var_dic_list()) "
    }
   },
   "types_to_exclude": [
    "module",
    "function",
    "builtin_function_or_method",
    "instance",
    "_Feature"
   ],
   "window_display": false
  }
 },
 "nbformat": 4,
 "nbformat_minor": 5
}
